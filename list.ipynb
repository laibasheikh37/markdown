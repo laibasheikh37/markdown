{
 "cells": [
  {
   "cell_type": "code",
   "execution_count": null,
   "metadata": {},
   "outputs": [],
   "source": []
  },
  {
   "cell_type": "code",
   "execution_count": 1,
   "metadata": {},
   "outputs": [
    {
     "name": "stdout",
     "output_type": "stream",
     "text": [
      "4\n"
     ]
    }
   ],
   "source": [
    "print(2+2)"
   ]
  },
  {
   "cell_type": "code",
   "execution_count": 2,
   "metadata": {},
   "outputs": [
    {
     "data": {
      "text/plain": [
       "15"
      ]
     },
     "execution_count": 2,
     "metadata": {},
     "output_type": "execute_result"
    }
   ],
   "source": [
    "7+8"
   ]
  },
  {
   "cell_type": "code",
   "execution_count": 15,
   "metadata": {},
   "outputs": [
    {
     "name": "stdout",
     "output_type": "stream",
     "text": [
      "['apple', 'mango', 'orange']\n"
     ]
    }
   ],
   "source": [
    "fruits: list =['apple','mango','orange']\n",
    "print(fruits)"
   ]
  },
  {
   "cell_type": "code",
   "execution_count": 4,
   "metadata": {},
   "outputs": [
    {
     "data": {
      "text/plain": [
       "'apple'"
      ]
     },
     "execution_count": 4,
     "metadata": {},
     "output_type": "execute_result"
    }
   ],
   "source": [
    "fruits[0]"
   ]
  },
  {
   "cell_type": "code",
   "execution_count": 5,
   "metadata": {},
   "outputs": [
    {
     "data": {
      "text/plain": [
       "'mango'"
      ]
     },
     "execution_count": 5,
     "metadata": {},
     "output_type": "execute_result"
    }
   ],
   "source": [
    "fruits[-2]"
   ]
  },
  {
   "cell_type": "code",
   "execution_count": 6,
   "metadata": {},
   "outputs": [
    {
     "data": {
      "text/plain": [
       "['mango', 'orange']"
      ]
     },
     "execution_count": 6,
     "metadata": {},
     "output_type": "execute_result"
    }
   ],
   "source": [
    "fruits[1:3]"
   ]
  },
  {
   "cell_type": "code",
   "execution_count": 7,
   "metadata": {},
   "outputs": [
    {
     "data": {
      "text/plain": [
       "['apple', 'mango', 'orange']"
      ]
     },
     "execution_count": 7,
     "metadata": {},
     "output_type": "execute_result"
    }
   ],
   "source": [
    "fruits[0:]"
   ]
  },
  {
   "cell_type": "code",
   "execution_count": 8,
   "metadata": {},
   "outputs": [
    {
     "data": {
      "text/plain": [
       "['mango', 'orange']"
      ]
     },
     "execution_count": 8,
     "metadata": {},
     "output_type": "execute_result"
    }
   ],
   "source": [
    "fruits[1:]"
   ]
  },
  {
   "cell_type": "code",
   "execution_count": 9,
   "metadata": {},
   "outputs": [],
   "source": [
    "fruits[0] = 'Almond'"
   ]
  },
  {
   "cell_type": "code",
   "execution_count": 10,
   "metadata": {},
   "outputs": [
    {
     "data": {
      "text/plain": [
       "['Almond', 'mango', 'orange']"
      ]
     },
     "execution_count": 10,
     "metadata": {},
     "output_type": "execute_result"
    }
   ],
   "source": [
    "fruits"
   ]
  },
  {
   "cell_type": "code",
   "execution_count": 11,
   "metadata": {},
   "outputs": [],
   "source": [
    "fruits.append('apple')"
   ]
  },
  {
   "cell_type": "code",
   "execution_count": 12,
   "metadata": {},
   "outputs": [
    {
     "data": {
      "text/plain": [
       "['Almond', 'mango', 'orange', 'apple']"
      ]
     },
     "execution_count": 12,
     "metadata": {},
     "output_type": "execute_result"
    }
   ],
   "source": [
    "fruits"
   ]
  },
  {
   "cell_type": "code",
   "execution_count": 13,
   "metadata": {},
   "outputs": [],
   "source": [
    "fruits.clear()"
   ]
  },
  {
   "cell_type": "code",
   "execution_count": 14,
   "metadata": {},
   "outputs": [
    {
     "data": {
      "text/plain": [
       "[]"
      ]
     },
     "execution_count": 14,
     "metadata": {},
     "output_type": "execute_result"
    }
   ],
   "source": [
    "fruits"
   ]
  },
  {
   "cell_type": "code",
   "execution_count": 16,
   "metadata": {},
   "outputs": [
    {
     "name": "stdout",
     "output_type": "stream",
     "text": [
      "['apple', 'mango', 'orange']\n"
     ]
    }
   ],
   "source": [
    "fruits1 = fruits\n",
    "print(fruits)"
   ]
  },
  {
   "cell_type": "code",
   "execution_count": 17,
   "metadata": {},
   "outputs": [
    {
     "name": "stdout",
     "output_type": "stream",
     "text": [
      "['kiwi', 'mango', 'orange']\n"
     ]
    }
   ],
   "source": [
    "fruits[0]='kiwi'\n",
    "print(fruits)"
   ]
  },
  {
   "cell_type": "code",
   "execution_count": 18,
   "metadata": {},
   "outputs": [
    {
     "data": {
      "text/plain": [
       "['kiwi', 'mango', 'orange']"
      ]
     },
     "execution_count": 18,
     "metadata": {},
     "output_type": "execute_result"
    }
   ],
   "source": [
    "fruits1"
   ]
  },
  {
   "cell_type": "code",
   "execution_count": 19,
   "metadata": {},
   "outputs": [
    {
     "name": "stdout",
     "output_type": "stream",
     "text": [
      "2139396401984\n"
     ]
    },
    {
     "ename": "NameError",
     "evalue": "name 'fruit' is not defined",
     "output_type": "error",
     "traceback": [
      "\u001b[1;31m---------------------------------------------------------------------------\u001b[0m",
      "\u001b[1;31mNameError\u001b[0m                                 Traceback (most recent call last)",
      "Cell \u001b[1;32mIn[19], line 2\u001b[0m\n\u001b[0;32m      1\u001b[0m \u001b[38;5;28mprint\u001b[39m(\u001b[38;5;28mid\u001b[39m(fruits1))\n\u001b[1;32m----> 2\u001b[0m \u001b[38;5;28mprint\u001b[39m(\u001b[38;5;28mid\u001b[39m(\u001b[43mfruit\u001b[49m))\n",
      "\u001b[1;31mNameError\u001b[0m: name 'fruit' is not defined"
     ]
    }
   ],
   "source": [
    "print(id(fruits1))\n",
    "print(id(fruit))"
   ]
  },
  {
   "cell_type": "code",
   "execution_count": 20,
   "metadata": {},
   "outputs": [
    {
     "name": "stdout",
     "output_type": "stream",
     "text": [
      "2139396401984\n",
      "2139396401984\n"
     ]
    }
   ],
   "source": [
    "print(id(fruits1))\n",
    "print(id(fruits))"
   ]
  },
  {
   "cell_type": "code",
   "execution_count": 21,
   "metadata": {},
   "outputs": [
    {
     "name": "stdout",
     "output_type": "stream",
     "text": [
      "2139402140736\n",
      "2139396401984\n"
     ]
    }
   ],
   "source": [
    "fruits2 =fruits.copy\n",
    "print(id(fruits2))\n",
    "print(id(fruits))"
   ]
  },
  {
   "cell_type": "code",
   "execution_count": 22,
   "metadata": {},
   "outputs": [
    {
     "name": "stdout",
     "output_type": "stream",
     "text": [
      "<built-in method copy of list object at 0x000001F21DF66B40>\n"
     ]
    }
   ],
   "source": [
    "fruits[-1]='grapes'\n",
    "print(fruits2)"
   ]
  },
  {
   "cell_type": "code",
   "execution_count": 23,
   "metadata": {},
   "outputs": [
    {
     "name": "stdout",
     "output_type": "stream",
     "text": [
      "['kiwi', 'mango', 'grapes']\n"
     ]
    }
   ],
   "source": [
    "print(fruits)"
   ]
  },
  {
   "cell_type": "code",
   "execution_count": 24,
   "metadata": {},
   "outputs": [
    {
     "name": "stdout",
     "output_type": "stream",
     "text": [
      "['onion', 'peas', 'potato']\n"
     ]
    }
   ],
   "source": [
    "vegetables = ['onion','peas','potato']\n",
    "print(vegetables)"
   ]
  },
  {
   "cell_type": "code",
   "execution_count": 25,
   "metadata": {},
   "outputs": [
    {
     "name": "stdout",
     "output_type": "stream",
     "text": [
      "['kiwi', 'mango', 'grapes', 'onion', 'peas', 'potato']\n"
     ]
    }
   ],
   "source": [
    "fruits.extend(vegetables)\n",
    "print(fruits)"
   ]
  },
  {
   "cell_type": "code",
   "execution_count": 26,
   "metadata": {},
   "outputs": [],
   "source": [
    "fruits.remove('onion')"
   ]
  },
  {
   "cell_type": "code",
   "execution_count": 27,
   "metadata": {},
   "outputs": [
    {
     "data": {
      "text/plain": [
       "['kiwi', 'mango', 'grapes', 'peas', 'potato']"
      ]
     },
     "execution_count": 27,
     "metadata": {},
     "output_type": "execute_result"
    }
   ],
   "source": [
    "fruits"
   ]
  },
  {
   "cell_type": "code",
   "execution_count": 28,
   "metadata": {},
   "outputs": [
    {
     "data": {
      "text/plain": [
       "'potato'"
      ]
     },
     "execution_count": 28,
     "metadata": {},
     "output_type": "execute_result"
    }
   ],
   "source": [
    "fruits.pop(-1)"
   ]
  },
  {
   "cell_type": "code",
   "execution_count": 29,
   "metadata": {},
   "outputs": [],
   "source": [
    "fruits.reverse()"
   ]
  },
  {
   "cell_type": "code",
   "execution_count": 30,
   "metadata": {},
   "outputs": [
    {
     "data": {
      "text/plain": [
       "['peas', 'grapes', 'mango', 'kiwi']"
      ]
     },
     "execution_count": 30,
     "metadata": {},
     "output_type": "execute_result"
    }
   ],
   "source": [
    "fruits"
   ]
  },
  {
   "cell_type": "code",
   "execution_count": 31,
   "metadata": {},
   "outputs": [],
   "source": [
    "fruits.sort()"
   ]
  },
  {
   "cell_type": "code",
   "execution_count": 32,
   "metadata": {},
   "outputs": [
    {
     "data": {
      "text/plain": [
       "['grapes', 'kiwi', 'mango', 'peas']"
      ]
     },
     "execution_count": 32,
     "metadata": {},
     "output_type": "execute_result"
    }
   ],
   "source": [
    "fruits"
   ]
  },
  {
   "cell_type": "code",
   "execution_count": 33,
   "metadata": {},
   "outputs": [],
   "source": [
    "fruits.sort(reverse=True)"
   ]
  },
  {
   "cell_type": "code",
   "execution_count": 34,
   "metadata": {},
   "outputs": [
    {
     "data": {
      "text/plain": [
       "['peas', 'mango', 'kiwi', 'grapes']"
      ]
     },
     "execution_count": 34,
     "metadata": {},
     "output_type": "execute_result"
    }
   ],
   "source": [
    "fruits"
   ]
  },
  {
   "cell_type": "code",
   "execution_count": 1,
   "metadata": {},
   "outputs": [],
   "source": [
    "name:list=['laiba','mahoo','jannat','saira','habiba']"
   ]
  },
  {
   "cell_type": "code",
   "execution_count": 2,
   "metadata": {},
   "outputs": [
    {
     "name": "stdout",
     "output_type": "stream",
     "text": [
      "['laiba', 'mahoo', 'jannat', 'saira', 'habiba']\n"
     ]
    }
   ],
   "source": [
    "print(name)"
   ]
  },
  {
   "cell_type": "code",
   "execution_count": 5,
   "metadata": {},
   "outputs": [
    {
     "name": "stdout",
     "output_type": "stream",
     "text": [
      "how are you,laiba\n",
      "how are you,mahoo\n",
      "how are you,jannat\n",
      "how are you,saira\n",
      "how are you,habiba\n"
     ]
    }
   ],
   "source": [
    "print(f\"how are you,{name[0]}\")\n",
    "print(f\"how are you,{name[1]}\")\n",
    "print(f\"how are you,{name[2]}\")\n",
    "print(f\"how are you,{name[3]}\")\n",
    "print(f\"how are you,{name[4]}\")"
   ]
  },
  {
   "cell_type": "code",
   "execution_count": 7,
   "metadata": {},
   "outputs": [
    {
     "name": "stdout",
     "output_type": "stream",
     "text": [
      "i have bike\n",
      "i would like to own ship\n"
     ]
    }
   ],
   "source": [
    "transportation_mode:list=['bike', 'car', 'motorcycle', 'jet', 'ship', 'aeroplane']\n",
    "index=0\n",
    "print(f\"i have {transportation_mode[0]}\")\n",
    "print(f\"i would like to own {transportation_mode[4]}\")\n",
    "    "
   ]
  },
  {
   "cell_type": "code",
   "execution_count": 8,
   "metadata": {},
   "outputs": [
    {
     "name": "stdout",
     "output_type": "stream",
     "text": [
      "['ALI', 'AHMAD', 'MOEEZ']\n",
      " hi ALI, \n",
      " i would like to invite  to dinner\n",
      "hi AHMAD, \n",
      " i would like you to invite to dinner\n",
      " hello MOEEZ \n",
      " i would like to invite  to dinner\n"
     ]
    }
   ],
   "source": [
    "#guest list\n",
    "guest: list=['ALI', 'AHMAD',  'MOEEZ']\n",
    "print(guest)\n",
    "guest_1=(f\" hi {guest[0]}, \\n i would like to invite  to dinner\")\n",
    "print(guest_1)              \n",
    "guest_2=(f\"hi {guest[1]}, \\n i would like you to invite to dinner\")\n",
    "print(guest_2)\n",
    "guest_3=(f\" hello {guest[2]} \\n i would like to invite  to dinner\")\n",
    "print(guest_3)"
   ]
  },
  {
   "cell_type": "code",
   "execution_count": 11,
   "metadata": {},
   "outputs": [
    {
     "name": "stdout",
     "output_type": "stream",
     "text": [
      "unfortunately,['MOEEZ'],cannot make it\n",
      " hi ALI, \n",
      " i would like to invite  to dinner\n",
      "hi Ahmad, \n",
      " i would like you to invite to dinner\n",
      " hello Areeb \n",
      " i would like to invite  to dinner\n"
     ]
    }
   ],
   "source": [
    "#changing guest list \n",
    "guest_who_cannot_make_it=['MOEEZ']\n",
    "print(f'unfortunately,{guest_who_cannot_make_it},cannot make it')\n",
    "change_guest_list='ALI','Ahmad','Areeb'\n",
    "change_guest_1=(f\" hi { change_guest_list[0]}, \\n i would like to invite  to dinner\")\n",
    "print( change_guest_1)              \n",
    "change_guest_2=(f\"hi { change_guest_list[1]}, \\n i would like you to invite to dinner\")\n",
    "print( change_guest_2)\n",
    "change_guest_3=(f\" hello {change_guest_list[2]} \\n i would like to invite  to dinner\")\n",
    "print(change_guest_3)\n"
   ]
  },
  {
   "cell_type": "code",
   "execution_count": 15,
   "metadata": {},
   "outputs": [
    {
     "name": "stdout",
     "output_type": "stream",
     "text": [
      "i have a good news, many people can join us for a dinner\n",
      "['ALI', 'Ahmad', 'Areeb']\n",
      "['Alina', 'ALI', 'Ahmad', 'Areeb']\n",
      "['Alina', 'ALI', 'haya', 'Ahmad', 'Areeb']\n",
      "['Alina', 'ALI', 'haya', 'Ahmad', 'Areeb', 'Zumar']\n"
     ]
    }
   ],
   "source": [
    "#more guest\n",
    "print(\"i have a good news, many people can join us for a dinner\")\n",
    "change_guest_list=['ALI','Ahmad','Areeb']\n",
    "print(change_guest_list)\n",
    "change_guest_list.insert(0, 'Alina')\n",
    "print(change_guest_list)\n",
    "middle_index=len(change_guest_list)//2\n",
    "change_guest_list.insert(middle_index,'haya')\n",
    "print(change_guest_list)\n",
    "change_guest_list.append('Zumar')\n",
    "print(change_guest_list)"
   ]
  },
  {
   "cell_type": "code",
   "execution_count": 19,
   "metadata": {},
   "outputs": [
    {
     "name": "stdout",
     "output_type": "stream",
     "text": [
      "['Alina', 'ALI', 'haya', 'Ahmad', 'Areeb', 'Zumar']\n",
      "unfortunately,only two people will be invited for dinner \n",
      "i am sorry Zumar, i cannot invite you to dinner\n",
      "i am sorry Areeb, i cannot invite you to dinner\n",
      "i am sorry Ahmad, i cannot invite you to dinner\n",
      "i am sorry haya, i cannot invite you to dinner\n",
      "remaining_guest: ['Alina', 'ALI']\n",
      "['Alina', 'ALI'], both of you are still invited\n",
      "the guest list who are finally invited are []\n"
     ]
    }
   ],
   "source": [
    "#shrinking guest list\n",
    "shrink_guest: list=['Alina', 'ALI', 'haya', 'Ahmad', 'Areeb', 'Zumar']\n",
    "print(shrink_guest)\n",
    "print(\"unfortunately,only two people will be invited for dinner \")\n",
    "while len(shrink_guest) >2:\n",
    "  removed_guest1=shrink_guest.pop()\n",
    "  removed_guest2=shrink_guest.pop()\n",
    "  removed_guest3=shrink_guest.pop()\n",
    "  removed_guest4=shrink_guest.pop()\n",
    "print (f\"i am sorry {removed_guest1}, i cannot invite you to dinner\")\n",
    "print (f\"i am sorry {removed_guest2}, i cannot invite you to dinner\")\n",
    "print (f\"i am sorry {removed_guest3}, i cannot invite you to dinner\")\n",
    "print (f\"i am sorry {removed_guest4}, i cannot invite you to dinner\")\n",
    "print(f\"remaining_guest: {shrink_guest}\")\n",
    "print(f\"{shrink_guest}, both of you are still invited\")\n",
    "del shrink_guest[0]\n",
    "del shrink_guest[0]\n",
    "print(f\"the guest list who are finally invited are {shrink_guest}\")\n"
   ]
  },
  {
   "cell_type": "code",
   "execution_count": 21,
   "metadata": {},
   "outputs": [
    {
     "name": "stdout",
     "output_type": "stream",
     "text": [
      "['Saudi arabia', 'turkey', 'south korea', 'maldives']\n",
      "['Saudi arabia', 'maldives', 'south korea', 'turkey']\n",
      "list in original order:\n",
      "['Saudi arabia', 'maldives', 'south korea', 'turkey']\n",
      "['turkey', 'south korea', 'maldives', 'Saudi arabia']\n",
      "['turkey', 'south korea', 'maldives', 'Saudi arabia']\n",
      "list in original order:\n",
      " ['turkey', 'south korea', 'maldives', 'Saudi arabia']\n",
      "['Saudi arabia', 'maldives', 'south korea', 'turkey']\n",
      "back in original order:\n",
      "['turkey', 'south korea', 'maldives', 'Saudi arabia']\n",
      "the list is sorted in alphabetical order:\n",
      "['Saudi arabia', 'maldives', 'south korea', 'turkey']\n",
      "list is back in its origibal order:\n",
      "['turkey', 'south korea', 'maldives', 'Saudi arabia']\n",
      "sorted in alphabetucal order:\n",
      "['Saudi arabia', 'maldives', 'south korea', 'turkey']\n",
      "in reverse order:\n",
      "['turkey', 'south korea', 'maldives', 'Saudi arabia']\n"
     ]
    }
   ],
   "source": [
    "#seeing the world\n",
    "places_to_visit=['Saudi arabia','turkey','south korea','maldives']\n",
    "print(places_to_visit)\n",
    "places_to_visit.sort()\n",
    "print(sorted(places_to_visit))\n",
    "original_order=places_to_visit\n",
    "print(f'list in original order:\\n{original_order}')\n",
    "\n",
    "places_to_visit.reverse()\n",
    "print(places_to_visit)\n",
    "\n",
    "places_to_visit.sort(reverse=True)\n",
    "print(places_to_visit)\n",
    "\n",
    "original_order=places_to_visit\n",
    "print(f\"list in original order:\\n {original_order}\")\n",
    "\n",
    "places_to_visit.reverse()\n",
    "print(places_to_visit)\n",
    "\n",
    "places_to_visit.reverse()\n",
    "print(f'back in original order:\\n{original_order}')\n",
    "\n",
    "places_to_visit.sort()\n",
    "print(f\"the list is sorted in alphabetical order:\\n{places_to_visit}\")\n",
    "\n",
    "places_to_visit.reverse()\n",
    "print(f\"list is back in its origibal order:\\n{places_to_visit}\")\n",
    "\n",
    "places_to_visit.sort()\n",
    "print(f\"sorted in alphabetucal order:\\n{places_to_visit}\")\n",
    "\n",
    "places_to_visit.sort(reverse=True)\n",
    "print(f\"in reverse order:\\n{places_to_visit}\")"
   ]
  },
  {
   "cell_type": "code",
   "execution_count": 24,
   "metadata": {},
   "outputs": [
    {
     "name": "stdout",
     "output_type": "stream",
     "text": [
      "['english', 'japnese', 'korean', 'turkish']\n",
      "english\n",
      "Korean\n",
      "['japnese', 'korean', 'turkish']\n",
      "['english', 'japnese', 'urdu', 'turkish']\n",
      "['english', 'japnese', 'urdu', 'turkish', 'english']\n",
      "['arabic', 'english', 'japnese', 'urdu', 'turkish', 'english']\n",
      "['arabic', 'english', 'english', 'japnese', 'turkish']\n",
      "2364216010432\n",
      "2364216010432\n",
      "2364217178304\n",
      "2364216010432\n",
      "['Korea', 'Pakistan', 'America', 'China']\n",
      "['arabic', 'english', 'english', 'japnese', 'turkish', 'Korea', 'Pakistan', 'America', 'China']\n",
      "['China', 'America', 'Pakistan', 'Korea', 'turkish', 'japnese', 'english', 'english', 'arabic']\n"
     ]
    }
   ],
   "source": [
    "#function\n",
    "languages=list=['english','japnese','korean','turkish']\n",
    "print(languages)\n",
    "\n",
    "print(languages[0])\n",
    "print(languages[2].title())\n",
    "print(languages[1:4])\n",
    "\n",
    "languages[2]=\"urdu\"\n",
    "print(languages)\n",
    "\n",
    "languages.append(\"english\")\n",
    "print(languages)\n",
    "\n",
    "languages.insert(0,'arabic')\n",
    "print(languages)\n",
    "\n",
    "languages.sort()\n",
    "languages\n",
    "\n",
    "languages.pop()\n",
    "languages\n",
    "\n",
    "languages1=languages\n",
    "print(languages)\n",
    "\n",
    "print(id(languages))\n",
    "print(id(languages1))\n",
    "\n",
    "languages2=languages.copy()\n",
    "print(id(languages2))\n",
    "print(id(languages))\n",
    "\n",
    "countries=['Korea', 'Pakistan','America','China']\n",
    "print(countries)\n",
    "\n",
    "languages.extend(countries)\n",
    "print(languages)\n",
    "\n",
    "languages.reverse()\n",
    "print(languages)"
   ]
  },
  {
   "cell_type": "code",
   "execution_count": 27,
   "metadata": {},
   "outputs": [
    {
     "ename": "IndexError",
     "evalue": "list index out of range",
     "output_type": "error",
     "traceback": [
      "\u001b[1;31m---------------------------------------------------------------------------\u001b[0m",
      "\u001b[1;31mIndexError\u001b[0m                                Traceback (most recent call last)",
      "Cell \u001b[1;32mIn[27], line 3\u001b[0m\n\u001b[0;32m      1\u001b[0m \u001b[38;5;66;03m#intentional error\u001b[39;00m\n\u001b[0;32m      2\u001b[0m name:\u001b[38;5;28mlist\u001b[39m\u001b[38;5;241m=\u001b[39m[\u001b[38;5;124m'\u001b[39m\u001b[38;5;124manaya\u001b[39m\u001b[38;5;124m'\u001b[39m,\u001b[38;5;124m'\u001b[39m\u001b[38;5;124mfiza\u001b[39m\u001b[38;5;124m'\u001b[39m,\u001b[38;5;124m'\u001b[39m\u001b[38;5;124malina\u001b[39m\u001b[38;5;124m'\u001b[39m]\n\u001b[1;32m----> 3\u001b[0m \u001b[38;5;28mprint\u001b[39m(\u001b[43mname\u001b[49m\u001b[43m[\u001b[49m\u001b[38;5;241;43m5\u001b[39;49m\u001b[43m]\u001b[49m)\n",
      "\u001b[1;31mIndexError\u001b[0m: list index out of range"
     ]
    }
   ],
   "source": [
    "#intentional error\n",
    "name:list=['anaya','fiza','alina']\n",
    "print(name[5])\n"
   ]
  },
  {
   "cell_type": "code",
   "execution_count": null,
   "metadata": {},
   "outputs": [],
   "source": []
  }
 ],
 "metadata": {
  "kernelspec": {
   "display_name": "Python 3",
   "language": "python",
   "name": "python3"
  },
  "language_info": {
   "codemirror_mode": {
    "name": "ipython",
    "version": 3
   },
   "file_extension": ".py",
   "mimetype": "text/x-python",
   "name": "python",
   "nbconvert_exporter": "python",
   "pygments_lexer": "ipython3",
   "version": "3.12.4"
  }
 },
 "nbformat": 4,
 "nbformat_minor": 2
}
