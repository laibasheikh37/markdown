{
 "cells": [
  {
   "cell_type": "code",
   "execution_count": 10,
   "metadata": {},
   "outputs": [],
   "source": [
    "number_list=[]\n",
    "name=input(\"enter your name:\")\n",
    "print()\n",
    "for i in range(1,4):\n",
    "     num-int(input(f\"Enter your (1) favorite number: \"))\n",
    "     number_list.append(num)\n",
    "print(f\"\\nHello, {name}! let's explore your favorite number:\")\n",
    "for num in number_list:\n",
    "     if num % 2 == 0:\n",
    "        print (f\"The number {num} is even.\")\n",
    "     else:\n",
    "        print (f\"The number {num} is odd.\")\n",
    "print()\n",
    "for num in number_list:\n",
    "        print(f\"The number (num) and its square: ((num), {num **2})\")\n",
    "sum_numbers-sum(number_list)\n",
    "print(f\"\\n Here is the sum of your favorite numbers: {sum_numbers}\")\n",
    "if sum_numbers-- 0 or sum_numbers - 1:\n",
    "       print(num, \"is not a prime number\")\n",
    "elif sum_numbers > 1:\n",
    "      for i in range(2, sum_numbers):\n",
    "        if (num % i) == 0:\n",
    "         prime = True\n",
    "         \n",
    "if prime:\n",
    "         print(f\"Alas! (sum_numbers), is not a prime number\")\n",
    "else:\n",
    "        print(f\"Wow! {sum_numbers}, is a prime number\")"
   ]
  },
  {
   "cell_type": "code",
   "execution_count": null,
   "metadata": {},
   "outputs": [],
   "source": []
  }
 ],
 "metadata": {
  "kernelspec": {
   "display_name": "Python 3",
   "language": "python",
   "name": "python3"
  },
  "language_info": {
   "codemirror_mode": {
    "name": "ipython",
    "version": 3
   },
   "file_extension": ".py",
   "mimetype": "text/x-python",
   "name": "python",
   "nbconvert_exporter": "python",
   "pygments_lexer": "ipython3",
   "version": "3.12.4"
  }
 },
 "nbformat": 4,
 "nbformat_minor": 2
}
